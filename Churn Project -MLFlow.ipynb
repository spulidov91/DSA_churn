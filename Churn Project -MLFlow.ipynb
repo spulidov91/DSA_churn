{
 "cells": [
  {
   "cell_type": "markdown",
   "metadata": {
    "application/vnd.databricks.v1+cell": {
     "cellMetadata": {},
     "inputWidgets": {},
     "nuid": "898cfec9-2519-415c-ad51-b28a20418423",
     "showTitle": false,
     "tableResultSettingsMap": {},
     "title": ""
    }
   },
   "source": [
    "# Análsis Crediticio BankChurners"
   ]
  },
  {
   "cell_type": "markdown",
   "metadata": {
    "application/vnd.databricks.v1+cell": {
     "cellMetadata": {},
     "inputWidgets": {},
     "nuid": "69c13554-6c69-4555-a7dd-951f75a4064b",
     "showTitle": false,
     "tableResultSettingsMap": {},
     "title": ""
    }
   },
   "source": [
    "## Librerias"
   ]
  },
  {
   "cell_type": "code",
   "execution_count": 0,
   "metadata": {
    "application/vnd.databricks.v1+cell": {
     "cellMetadata": {
      "byteLimit": 2048000,
      "rowLimit": 10000
     },
     "collapsed": true,
     "inputWidgets": {},
     "nuid": "861c954f-c920-4054-8349-392b581420cb",
     "showTitle": false,
     "tableResultSettingsMap": {},
     "title": ""
    }
   },
   "outputs": [
    {
     "output_type": "stream",
     "name": "stdout",
     "output_type": "stream",
     "text": [
      "Collecting missingno\n  Obtaining dependency information for missingno from https://files.pythonhosted.org/packages/87/22/cd5cf999af21c2f97486622c551ac3d07361ced8125121e907f588ff5f24/missingno-0.5.2-py3-none-any.whl.metadata\n  Downloading missingno-0.5.2-py3-none-any.whl.metadata (639 bytes)\nRequirement already satisfied: numpy in /databricks/python3/lib/python3.11/site-packages (from missingno) (1.23.5)\nRequirement already satisfied: matplotlib in /databricks/python3/lib/python3.11/site-packages (from missingno) (3.7.2)\nRequirement already satisfied: scipy in /databricks/python3/lib/python3.11/site-packages (from missingno) (1.11.1)\nRequirement already satisfied: seaborn in /databricks/python3/lib/python3.11/site-packages (from missingno) (0.12.2)\nRequirement already satisfied: contourpy>=1.0.1 in /databricks/python3/lib/python3.11/site-packages (from matplotlib->missingno) (1.0.5)\nRequirement already satisfied: cycler>=0.10 in /databricks/python3/lib/python3.11/site-packages (from matplotlib->missingno) (0.11.0)\nRequirement already satisfied: fonttools>=4.22.0 in /databricks/python3/lib/python3.11/site-packages (from matplotlib->missingno) (4.25.0)\nRequirement already satisfied: kiwisolver>=1.0.1 in /databricks/python3/lib/python3.11/site-packages (from matplotlib->missingno) (1.4.4)\nRequirement already satisfied: packaging>=20.0 in /databricks/python3/lib/python3.11/site-packages (from matplotlib->missingno) (23.2)\nRequirement already satisfied: pillow>=6.2.0 in /databricks/python3/lib/python3.11/site-packages (from matplotlib->missingno) (9.4.0)\nRequirement already satisfied: pyparsing<3.1,>=2.3.1 in /databricks/python3/lib/python3.11/site-packages (from matplotlib->missingno) (3.0.9)\nRequirement already satisfied: python-dateutil>=2.7 in /databricks/python3/lib/python3.11/site-packages (from matplotlib->missingno) (2.8.2)\nRequirement already satisfied: pandas>=0.25 in /databricks/python3/lib/python3.11/site-packages (from seaborn->missingno) (1.5.3)\nRequirement already satisfied: pytz>=2020.1 in /databricks/python3/lib/python3.11/site-packages (from pandas>=0.25->seaborn->missingno) (2022.7)\nRequirement already satisfied: six>=1.5 in /usr/lib/python3/dist-packages (from python-dateutil>=2.7->matplotlib->missingno) (1.16.0)\nDownloading missingno-0.5.2-py3-none-any.whl (8.7 kB)\nInstalling collected packages: missingno\nSuccessfully installed missingno-0.5.2\n\u001B[43mNote: you may need to restart the kernel using %restart_python or dbutils.library.restartPython() to use updated packages.\u001B[0m\n"
     ]
    }
   ],
   "source": [
    "!pip install missingno"
   ]
  },
  {
   "cell_type": "code",
   "execution_count": 0,
   "metadata": {
    "application/vnd.databricks.v1+cell": {
     "cellMetadata": {
      "byteLimit": 2048000,
      "rowLimit": 10000
     },
     "collapsed": true,
     "inputWidgets": {},
     "nuid": "1802ae47-3d95-481a-b9b6-1c1e56db8999",
     "showTitle": false,
     "tableResultSettingsMap": {},
     "title": ""
    }
   },
   "outputs": [
    {
     "output_type": "stream",
     "name": "stdout",
     "output_type": "stream",
     "text": [
      "Collecting imblearn\n  Obtaining dependency information for imblearn from https://files.pythonhosted.org/packages/81/a7/4179e6ebfd654bd0eac0b9c06125b8b4c96a9d0a8ff9e9507eb2a26d2d7e/imblearn-0.0-py2.py3-none-any.whl.metadata\n  Downloading imblearn-0.0-py2.py3-none-any.whl.metadata (355 bytes)\nCollecting imbalanced-learn (from imblearn)\n  Obtaining dependency information for imbalanced-learn from https://files.pythonhosted.org/packages/d8/0d/c3bfccc5d460eec8ff56889802aa88f5d07280d5282b307a74558e6edc44/imbalanced_learn-0.12.4-py3-none-any.whl.metadata\n  Downloading imbalanced_learn-0.12.4-py3-none-any.whl.metadata (8.3 kB)\nRequirement already satisfied: numpy>=1.17.3 in /databricks/python3/lib/python3.11/site-packages (from imbalanced-learn->imblearn) (1.23.5)\nRequirement already satisfied: scipy>=1.5.0 in /databricks/python3/lib/python3.11/site-packages (from imbalanced-learn->imblearn) (1.11.1)\nRequirement already satisfied: scikit-learn>=1.0.2 in /databricks/python3/lib/python3.11/site-packages (from imbalanced-learn->imblearn) (1.3.0)\nRequirement already satisfied: joblib>=1.1.1 in /databricks/python3/lib/python3.11/site-packages (from imbalanced-learn->imblearn) (1.2.0)\nRequirement already satisfied: threadpoolctl>=2.0.0 in /databricks/python3/lib/python3.11/site-packages (from imbalanced-learn->imblearn) (2.2.0)\nDownloading imblearn-0.0-py2.py3-none-any.whl (1.9 kB)\nDownloading imbalanced_learn-0.12.4-py3-none-any.whl (258 kB)\n\u001B[?25l   \u001B[90m━━━━━━━━━━━━━━━━━━━━━━━━━━━━━━━━━━━━━━━━\u001B[0m \u001B[32m0.0/258.3 kB\u001B[0m \u001B[31m?\u001B[0m eta \u001B[36m-:--:--\u001B[0m\n\u001B[2K   \u001B[91m━━━━━━━━━━━━━━━━━━━━━━━━━━━━━━━\u001B[0m\u001B[91m╸\u001B[0m\u001B[90m━━━━━━━━\u001B[0m \u001B[32m204.8/258.3 kB\u001B[0m \u001B[31m6.1 MB/s\u001B[0m eta \u001B[36m0:00:01\u001B[0m\n\u001B[2K   \u001B[90m━━━━━━━━━━━━━━━━━━━━━━━━━━━━━━━━━━━━━━━━\u001B[0m \u001B[32m258.3/258.3 kB\u001B[0m \u001B[31m5.7 MB/s\u001B[0m eta \u001B[36m0:00:00\u001B[0m\n\u001B[?25hInstalling collected packages: imbalanced-learn, imblearn\nSuccessfully installed imbalanced-learn-0.12.4 imblearn-0.0\n\u001B[43mNote: you may need to restart the kernel using %restart_python or dbutils.library.restartPython() to use updated packages.\u001B[0m\n"
     ]
    }
   ],
   "source": [
    "!pip install imblearn"
   ]
  },
  {
   "cell_type": "code",
   "execution_count": 0,
   "metadata": {
    "application/vnd.databricks.v1+cell": {
     "cellMetadata": {
      "byteLimit": 2048000,
      "rowLimit": 10000
     },
     "collapsed": true,
     "inputWidgets": {},
     "nuid": "5045ddd8-fdd4-442b-a886-2270d6a119b1",
     "showTitle": false,
     "tableResultSettingsMap": {},
     "title": ""
    }
   },
   "outputs": [],
   "source": [
    "import pandas as pd\n",
    "import numpy as np\n",
    "\n",
    "import seaborn as sns   \n",
    "from matplotlib import pyplot as plt\n",
    "import missingno as msno\n",
    "import plotly.express as px\n",
    "\n",
    "\n",
    "from sklearn import metrics\n",
    "from sklearn.model_selection import train_test_split, GridSearchCV\n",
    "from imblearn.over_sampling import SMOTE, BorderlineSMOTE\n",
    "from imblearn.under_sampling import RandomUnderSampler\n",
    "from imblearn.pipeline import Pipeline\n",
    "from sklearn.preprocessing import MinMaxScaler\n",
    "\n",
    "from sklearn.ensemble import HistGradientBoostingClassifier, RandomForestClassifier\n",
    "from sklearn.model_selection import RepeatedKFold\n",
    "from sklearn.preprocessing import StandardScaler\n",
    "import multiprocessing\n",
    "from sklearn.metrics import accuracy_score, precision_score, precision_score, recall_score, auc, f1_score, auc, roc_curve, confusion_matrix, classification_report\n",
    "\n",
    "import mlflow\n",
    "import mlflow.sklearn\n",
    "\n",
    "from collections import Counter\n",
    "\n",
    "import warnings\n",
    "warnings.filterwarnings('ignore')"
   ]
  },
  {
   "cell_type": "markdown",
   "metadata": {
    "application/vnd.databricks.v1+cell": {
     "cellMetadata": {},
     "inputWidgets": {},
     "nuid": "ec89bedc-5a28-4f25-965b-6560bce2e62b",
     "showTitle": false,
     "tableResultSettingsMap": {},
     "title": ""
    }
   },
   "source": [
    "## Importación de información"
   ]
  },
  {
   "cell_type": "code",
   "execution_count": 0,
   "metadata": {
    "application/vnd.databricks.v1+cell": {
     "cellMetadata": {
      "byteLimit": 2048000,
      "rowLimit": 10000
     },
     "inputWidgets": {},
     "nuid": "f2152c04-3ec7-4de0-bafc-070b8d36586d",
     "showTitle": false,
     "tableResultSettingsMap": {},
     "title": ""
    }
   },
   "outputs": [],
   "source": [
    "url = 'https://raw.githubusercontent.com/spulidov91/DSA_churn/refs/heads/main/data/BankChurners.csv'\n",
    "datos = pd.read_csv(url, sep = ',', on_bad_lines='skip' )\n",
    "#Se eliminan las variables de estimación de naive Bayes\n",
    "datos.drop(columns = ['Naive_Bayes_Classifier_Attrition_Flag_Card_Category_Contacts_Count_12_mon_Dependent_count_Education_Level_Months_Inactive_12_mon_1', 'Naive_Bayes_Classifier_Attrition_Flag_Card_Category_Contacts_Count_12_mon_Dependent_count_Education_Level_Months_Inactive_12_mon_2' ], inplace = True)"
   ]
  },
  {
   "cell_type": "markdown",
   "metadata": {
    "application/vnd.databricks.v1+cell": {
     "cellMetadata": {},
     "inputWidgets": {},
     "nuid": "82abe47e-d168-4724-a7fa-86402fa20cc3",
     "showTitle": false,
     "tableResultSettingsMap": {},
     "title": ""
    }
   },
   "source": [
    "## Preprocesamiento de datos"
   ]
  },
  {
   "cell_type": "code",
   "execution_count": 0,
   "metadata": {
    "application/vnd.databricks.v1+cell": {
     "cellMetadata": {
      "byteLimit": 2048000,
      "rowLimit": 10000
     },
     "inputWidgets": {},
     "nuid": "511d96a8-e961-4e05-8c56-c3e242f9aacc",
     "showTitle": false,
     "tableResultSettingsMap": {},
     "title": ""
    }
   },
   "outputs": [
    {
     "output_type": "stream",
     "name": "stderr",
     "output_type": "stream",
     "text": [
      "Exception ignored on calling ctypes callback function: <function _ThreadpoolInfo._find_modules_with_dl_iterate_phdr.<locals>.match_module_callback at 0x7f1042e6f880>\nTraceback (most recent call last):\n  File \"/databricks/python/lib/python3.11/site-packages/threadpoolctl.py\", line 400, in match_module_callback\n    self._make_module_from_path(filepath)\n  File \"/databricks/python/lib/python3.11/site-packages/threadpoolctl.py\", line 515, in _make_module_from_path\n    module = module_class(filepath, prefix, user_api, internal_api)\n             ^^^^^^^^^^^^^^^^^^^^^^^^^^^^^^^^^^^^^^^^^^^^^^^^^^^^^^\n  File \"/databricks/python/lib/python3.11/site-packages/threadpoolctl.py\", line 606, in __init__\n    self.version = self.get_version()\n                   ^^^^^^^^^^^^^^^^^^\n  File \"/databricks/python/lib/python3.11/site-packages/threadpoolctl.py\", line 646, in get_version\n    config = get_config().split()\n             ^^^^^^^^^^^^^^^^^^\nAttributeError: 'NoneType' object has no attribute 'split'\nException ignored on calling ctypes callback function: <function _ThreadpoolInfo._find_modules_with_dl_iterate_phdr.<locals>.match_module_callback at 0x7f1042e6f1a0>\nTraceback (most recent call last):\n  File \"/databricks/python/lib/python3.11/site-packages/threadpoolctl.py\", line 400, in match_module_callback\n    self._make_module_from_path(filepath)\n  File \"/databricks/python/lib/python3.11/site-packages/threadpoolctl.py\", line 515, in _make_module_from_path\n    module = module_class(filepath, prefix, user_api, internal_api)\n             ^^^^^^^^^^^^^^^^^^^^^^^^^^^^^^^^^^^^^^^^^^^^^^^^^^^^^^\n  File \"/databricks/python/lib/python3.11/site-packages/threadpoolctl.py\", line 606, in __init__\n    self.version = self.get_version()\n                   ^^^^^^^^^^^^^^^^^^\n  File \"/databricks/python/lib/python3.11/site-packages/threadpoolctl.py\", line 646, in get_version\n    config = get_config().split()\n             ^^^^^^^^^^^^^^^^^^\nAttributeError: 'NoneType' object has no attribute 'split'\nException ignored on calling ctypes callback function: <function _ThreadpoolInfo._find_modules_with_dl_iterate_phdr.<locals>.match_module_callback at 0x7f1042e6f380>\nTraceback (most recent call last):\n  File \"/databricks/python/lib/python3.11/site-packages/threadpoolctl.py\", line 400, in match_module_callback\n    self._make_module_from_path(filepath)\n  File \"/databricks/python/lib/python3.11/site-packages/threadpoolctl.py\", line 515, in _make_module_from_path\n    module = module_class(filepath, prefix, user_api, internal_api)\n             ^^^^^^^^^^^^^^^^^^^^^^^^^^^^^^^^^^^^^^^^^^^^^^^^^^^^^^\n  File \"/databricks/python/lib/python3.11/site-packages/threadpoolctl.py\", line 606, in __init__\n    self.version = self.get_version()\n                   ^^^^^^^^^^^^^^^^^^\n  File \"/databricks/python/lib/python3.11/site-packages/threadpoolctl.py\", line 646, in get_version\n    config = get_config().split()\n             ^^^^^^^^^^^^^^^^^^\nAttributeError: 'NoneType' object has no attribute 'split'\n"
     ]
    }
   ],
   "source": [
    "col_cat = datos.drop('Attrition_Flag', axis=1).select_dtypes(exclude=['int64','float64']).columns\n",
    "col_num = datos.drop(['Attrition_Flag','CLIENTNUM'], axis=1).select_dtypes(include=['int64','float64']).columns\n",
    "\n",
    "# Elimina una columna llamada 'CLIENTNUM'\n",
    "datos = datos.drop('CLIENTNUM', axis=1)\n",
    "\n",
    "# Se reemplaza la variable respuesta por 0 y 1\n",
    "datos['Attrition_Flag'] = datos['Attrition_Flag'].replace({'Attrited Customer':1, 'Existing Customer':0})\n",
    "# Se reemplaza en la columna gender F -> 1, M -> 0\n",
    "datos['Gender'] = datos['Gender'].replace({'F':1,'M':0})\n",
    "\n",
    "# Aplica one-hot encoding directamente sobre todas las columnas categóricas en categorical_columns\n",
    "datos = pd.get_dummies(datos, columns=col_cat, drop_first=False, dtype=int)\n",
    "\n",
    "# Crear una instancia de StandardScaler\n",
    "scaler = StandardScaler()\n",
    "\n",
    "# Aplicar StandardScaler solo a las columnas en col_num\n",
    "datos[col_num] = scaler.fit_transform(datos[col_num])\n",
    "\n",
    "# División de datos\n",
    "y = datos.pop('Attrition_Flag')\n",
    "X = datos\n",
    "\n",
    "x_train, x_test, y_train, y_test = train_test_split(X, y, train_size=0.8, random_state=69)\n",
    "\n",
    "#Aplicando SMOTE a los datos de entrenamiento para tratar el desbalanceo de clases\n",
    "sm = SMOTE(sampling_strategy='auto', random_state=1234)\n",
    "x_smote, y_smote = sm.fit_resample(x_train, y_train)\n",
    "\n",
    "#Realizando under/over sampling\n",
    "over = BorderlineSMOTE(sampling_strategy=0.3)\n",
    "under = RandomUnderSampler(sampling_strategy=0.6)\n",
    "steps = [('o', over), ('u', under)]\n",
    "pipeline = Pipeline(steps=steps)\n",
    "x_smote_us, y_smote_us = pipeline.fit_resample(x_train, y_train)"
   ]
  },
  {
   "cell_type": "markdown",
   "metadata": {
    "application/vnd.databricks.v1+cell": {
     "cellMetadata": {},
     "inputWidgets": {},
     "nuid": "22f0f548-c9d4-4713-9035-a03454850516",
     "showTitle": false,
     "tableResultSettingsMap": {},
     "title": ""
    }
   },
   "source": [
    "## Modelamiento"
   ]
  },
  {
   "cell_type": "code",
   "execution_count": 0,
   "metadata": {
    "application/vnd.databricks.v1+cell": {
     "cellMetadata": {
      "byteLimit": 2048000,
      "rowLimit": 10000
     },
     "inputWidgets": {},
     "nuid": "0030f9da-9aa6-480b-b8c5-d5bc1e104781",
     "showTitle": false,
     "tableResultSettingsMap": {},
     "title": ""
    }
   },
   "outputs": [],
   "source": [
    "#Función para evaluación de métricas\n",
    "def metrics(y_test , y_pred, y_proba):\n",
    "  acc = accuracy_score(y_true=y_test,y_pred=y_pred)\n",
    "  prec = precision_score(y_true=y_test,y_pred=y_pred)\n",
    "  rec = recall_score(y_true=y_test,y_pred=y_pred)\n",
    "  f1 = f1_score(y_true=y_test,y_pred=y_pred)\n",
    "\n",
    "  fpr, tpr, thresholds = roc_curve(y_test,y_score =y_proba, pos_label=0)\n",
    "  AUC_score =auc(fpr, tpr)\n",
    "  return {'Accuracy':acc,\n",
    "          'Precission' :prec,\n",
    "          'Recall': rec,\n",
    "          'F1 score': f1,\n",
    "          'AUC': AUC_score}"
   ]
  },
  {
   "cell_type": "code",
   "execution_count": 0,
   "metadata": {
    "application/vnd.databricks.v1+cell": {
     "cellMetadata": {
      "byteLimit": 2048000,
      "rowLimit": 10000
     },
     "collapsed": true,
     "inputWidgets": {},
     "nuid": "722b1a09-ec72-4bac-a6b1-66b68aa0ac11",
     "showTitle": false,
     "tableResultSettingsMap": {},
     "title": ""
    }
   },
   "outputs": [],
   "source": [
    "#Función para correr experimentos Gradient Boosting\n",
    "def experiment_run_gbc(exp, x_train, y_train, dataframe, learning_rate, max_iter, max_depth,x_test=x_test, y_test=y_test):\n",
    "  #Definiendo el experimento\n",
    "  experiment = mlflow.set_experiment(f'/Users/spulidov91@gmail.com/{exp}')\n",
    "\n",
    "  with mlflow.start_run(experiment_id=experiment.experiment_id):\n",
    "    #Definiendo parámetros\n",
    "    learning_rate = learning_rate\n",
    "    max_iter = max_iter\n",
    "    max_depth = max_depth\n",
    "\n",
    "    #Entrenando el modelo\n",
    "    gb_sm_model = HistGradientBoostingClassifier(learning_rate = learning_rate, max_iter = max_iter, max_depth = max_depth)\n",
    "    gb_sm_model.fit(x_train, y_train)\n",
    "\n",
    "    #Generando predicciones\n",
    "    y_sm_pred = gb_sm_model.predict(x_test)\n",
    "    y_sm_pred_p = gb_sm_model.predict_proba(x_test)[:,0]\n",
    "\n",
    "    #Generando métricas\n",
    "    results = metrics(y_test,y_sm_pred,y_sm_pred_p)\n",
    "\n",
    "    #Registros en ML Flow\n",
    "    #Parámetros\n",
    "    mlflow.log_param(\"learning_rate\", learning_rate)\n",
    "    mlflow.log_param(\"max_iter\", max_iter)\n",
    "    mlflow.log_param(\"max_depth\", max_depth)\n",
    "    mlflow.log_param(\"Data_train\", dataframe)\n",
    "\n",
    "    #Modelo\n",
    "    mlflow.sklearn.log_model(gb_sm_model, \"Histogram-based Gradient Boosting Classification\")\n",
    "    #Métricas\n",
    "    for metric in results.keys():\n",
    "      mlflow.log_metric(metric, round(results[metric],5))"
   ]
  },
  {
   "cell_type": "markdown",
   "metadata": {
    "application/vnd.databricks.v1+cell": {
     "cellMetadata": {},
     "inputWidgets": {},
     "nuid": "ff681d6f-8e3e-4257-9b45-6eb16b9e50af",
     "showTitle": false,
     "tableResultSettingsMap": {},
     "title": ""
    }
   },
   "source": [
    "### Gradient Boosting"
   ]
  },
  {
   "cell_type": "code",
   "execution_count": 0,
   "metadata": {
    "application/vnd.databricks.v1+cell": {
     "cellMetadata": {
      "byteLimit": 2048000,
      "rowLimit": 10000
     },
     "collapsed": true,
     "inputWidgets": {},
     "nuid": "20eabdb0-9377-4b04-836c-362ee8e125ae",
     "showTitle": false,
     "tableResultSettingsMap": {},
     "title": ""
    }
   },
   "outputs": [
    {
     "output_type": "stream",
     "name": "stderr",
     "output_type": "stream",
     "text": [
      "2024/11/09 21:10:18 INFO mlflow.tracking.fluent: Experiment with name '/Users/spulidov91@gmail.com/bank-churn-GBC2' does not exist. Creating a new experiment.\n2024/11/09 21:10:23 WARNING mlflow.models.model: Model logged without a signature. Signatures will be required for upcoming model registry features as they validate model inputs and denote the expected schema of model outputs. Please visit https://www.mlflow.org/docs/2.11.4/models.html#set-signature-on-logged-model for instructions on setting a model signature on your logged model.\n2024/11/09 21:10:30 WARNING mlflow.models.model: Model logged without a signature. Signatures will be required for upcoming model registry features as they validate model inputs and denote the expected schema of model outputs. Please visit https://www.mlflow.org/docs/2.11.4/models.html#set-signature-on-logged-model for instructions on setting a model signature on your logged model.\n2024/11/09 21:10:38 WARNING mlflow.models.model: Model logged without a signature. Signatures will be required for upcoming model registry features as they validate model inputs and denote the expected schema of model outputs. Please visit https://www.mlflow.org/docs/2.11.4/models.html#set-signature-on-logged-model for instructions on setting a model signature on your logged model.\n2024/11/09 21:10:45 WARNING mlflow.models.model: Model logged without a signature. Signatures will be required for upcoming model registry features as they validate model inputs and denote the expected schema of model outputs. Please visit https://www.mlflow.org/docs/2.11.4/models.html#set-signature-on-logged-model for instructions on setting a model signature on your logged model.\n2024/11/09 21:10:52 WARNING mlflow.models.model: Model logged without a signature. Signatures will be required for upcoming model registry features as they validate model inputs and denote the expected schema of model outputs. Please visit https://www.mlflow.org/docs/2.11.4/models.html#set-signature-on-logged-model for instructions on setting a model signature on your logged model.\n2024/11/09 21:11:00 WARNING mlflow.models.model: Model logged without a signature. Signatures will be required for upcoming model registry features as they validate model inputs and denote the expected schema of model outputs. Please visit https://www.mlflow.org/docs/2.11.4/models.html#set-signature-on-logged-model for instructions on setting a model signature on your logged model.\n2024/11/09 21:11:07 WARNING mlflow.models.model: Model logged without a signature. Signatures will be required for upcoming model registry features as they validate model inputs and denote the expected schema of model outputs. Please visit https://www.mlflow.org/docs/2.11.4/models.html#set-signature-on-logged-model for instructions on setting a model signature on your logged model.\n2024/11/09 21:11:14 WARNING mlflow.models.model: Model logged without a signature. Signatures will be required for upcoming model registry features as they validate model inputs and denote the expected schema of model outputs. Please visit https://www.mlflow.org/docs/2.11.4/models.html#set-signature-on-logged-model for instructions on setting a model signature on your logged model.\n2024/11/09 21:11:23 WARNING mlflow.models.model: Model logged without a signature. Signatures will be required for upcoming model registry features as they validate model inputs and denote the expected schema of model outputs. Please visit https://www.mlflow.org/docs/2.11.4/models.html#set-signature-on-logged-model for instructions on setting a model signature on your logged model.\n2024/11/09 21:11:29 WARNING mlflow.models.model: Model logged without a signature. Signatures will be required for upcoming model registry features as they validate model inputs and denote the expected schema of model outputs. Please visit https://www.mlflow.org/docs/2.11.4/models.html#set-signature-on-logged-model for instructions on setting a model signature on your logged model.\n2024/11/09 21:11:36 WARNING mlflow.models.model: Model logged without a signature. Signatures will be required for upcoming model registry features as they validate model inputs and denote the expected schema of model outputs. Please visit https://www.mlflow.org/docs/2.11.4/models.html#set-signature-on-logged-model for instructions on setting a model signature on your logged model.\n2024/11/09 21:11:44 WARNING mlflow.models.model: Model logged without a signature. Signatures will be required for upcoming model registry features as they validate model inputs and denote the expected schema of model outputs. Please visit https://www.mlflow.org/docs/2.11.4/models.html#set-signature-on-logged-model for instructions on setting a model signature on your logged model.\n2024/11/09 21:11:51 WARNING mlflow.models.model: Model logged without a signature. Signatures will be required for upcoming model registry features as they validate model inputs and denote the expected schema of model outputs. Please visit https://www.mlflow.org/docs/2.11.4/models.html#set-signature-on-logged-model for instructions on setting a model signature on your logged model.\n2024/11/09 21:11:58 WARNING mlflow.models.model: Model logged without a signature. Signatures will be required for upcoming model registry features as they validate model inputs and denote the expected schema of model outputs. Please visit https://www.mlflow.org/docs/2.11.4/models.html#set-signature-on-logged-model for instructions on setting a model signature on your logged model.\n2024/11/09 21:12:05 WARNING mlflow.models.model: Model logged without a signature. Signatures will be required for upcoming model registry features as they validate model inputs and denote the expected schema of model outputs. Please visit https://www.mlflow.org/docs/2.11.4/models.html#set-signature-on-logged-model for instructions on setting a model signature on your logged model.\n2024/11/09 21:12:13 WARNING mlflow.models.model: Model logged without a signature. Signatures will be required for upcoming model registry features as they validate model inputs and denote the expected schema of model outputs. Please visit https://www.mlflow.org/docs/2.11.4/models.html#set-signature-on-logged-model for instructions on setting a model signature on your logged model.\n2024/11/09 21:12:21 WARNING mlflow.models.model: Model logged without a signature. Signatures will be required for upcoming model registry features as they validate model inputs and denote the expected schema of model outputs. Please visit https://www.mlflow.org/docs/2.11.4/models.html#set-signature-on-logged-model for instructions on setting a model signature on your logged model.\n"
     ]
    }
   ],
   "source": [
    "#Experimentos usando dataset desbalanceado\n",
    "experiment_run_gbc(exp='bank-churn-GBC2',dataframe='Unbalanced',\n",
    "                   x_train = x_train,y_train= y_train,   \n",
    "                   learning_rate=0.005, max_iter=100, max_depth=5)\n",
    "                   \n",
    "experiment_run_gbc(exp='bank-churn-GBC2',dataframe='Unbalanced',\n",
    "                   x_train = x_train,y_train= y_train,   \n",
    "                   learning_rate=0.005, max_iter=200, max_depth=5)\n",
    "\n",
    "experiment_run_gbc(exp='bank-churn-GBC2',dataframe='Unbalanced',\n",
    "                   x_train = x_train,y_train= y_train,   \n",
    "                   learning_rate=0.005, max_iter=300, max_depth=5)       \n",
    "\n",
    "experiment_run_gbc(exp='bank-churn-GBC2',dataframe='Unbalanced',\n",
    "                   x_train = x_train,y_train= y_train,   \n",
    "                   learning_rate=0.005, max_iter=100, max_depth=10)\n",
    "                   \n",
    "experiment_run_gbc(exp='bank-churn-GBC2',dataframe='Unbalanced',\n",
    "                   x_train = x_train,y_train= y_train,   \n",
    "                   learning_rate=0.005, max_iter=200, max_depth=10)\n",
    "\n",
    "experiment_run_gbc(exp='bank-churn-GBC2',dataframe='Unbalanced',\n",
    "                   x_train = x_train,y_train= y_train,   \n",
    "                   learning_rate=0.005, max_iter=300, max_depth=10)     \n",
    "\n",
    "experiment_run_gbc(exp='bank-churn-GBC2',dataframe='Unbalanced',\n",
    "                   x_train = x_train,y_train= y_train,   \n",
    "                   learning_rate=0.005, max_iter=100, max_depth=5)\n",
    "                   \n",
    "experiment_run_gbc(exp='bank-churn-GBC2',dataframe='Unbalanced',\n",
    "                   x_train = x_train,y_train= y_train,   \n",
    "                   learning_rate=0.01, max_iter=200, max_depth=5)\n",
    "\n",
    "experiment_run_gbc(exp='bank-churn-GBC2',dataframe='Unbalanced',\n",
    "                   x_train = x_train,y_train= y_train,   \n",
    "                   learning_rate=0.01, max_iter=300, max_depth=5)       \n",
    "\n",
    "experiment_run_gbc(exp='bank-churn-GBC2',dataframe='Unbalanced',\n",
    "                   x_train = x_train,y_train= y_train,   \n",
    "                   learning_rate=0.01, max_iter=100, max_depth=10)\n",
    "                   \n",
    "experiment_run_gbc(exp='bank-churn-GBC2',dataframe='Unbalanced',\n",
    "                   x_train = x_train,y_train= y_train,   \n",
    "                   learning_rate=0.01, max_iter=200, max_depth=10)\n",
    "\n",
    "experiment_run_gbc(exp='bank-churn-GBC2',dataframe='Unbalanced',\n",
    "                   x_train = x_train,y_train= y_train,   \n",
    "                   learning_rate=0.01, max_iter=300, max_depth=10)    \n",
    "\n",
    "experiment_run_gbc(exp='bank-churn-GBC2',dataframe='Unbalanced',\n",
    "                   x_train = x_train,y_train= y_train,   \n",
    "                   learning_rate=0.02, max_iter=200, max_depth=5)\n",
    "\n",
    "experiment_run_gbc(exp='bank-churn-GBC2',dataframe='Unbalanced',\n",
    "                   x_train = x_train,y_train= y_train,   \n",
    "                   learning_rate=0.02, max_iter=300, max_depth=5)       \n",
    "\n",
    "experiment_run_gbc(exp='bank-churn-GBC2',dataframe='Unbalanced',\n",
    "                   x_train = x_train,y_train= y_train,   \n",
    "                   learning_rate=0.02, max_iter=100, max_depth=10)\n",
    "                   \n",
    "experiment_run_gbc(exp='bank-churn-GBC2',dataframe='Unbalanced',\n",
    "                   x_train = x_train,y_train= y_train,   \n",
    "                   learning_rate=0.02, max_iter=200, max_depth=10)\n",
    "\n",
    "experiment_run_gbc(exp='bank-churn-GBC2',dataframe='Unbalanced',\n",
    "                   x_train = x_train,y_train= y_train,   \n",
    "                   learning_rate=0.02, max_iter=300, max_depth=10)    "
   ]
  },
  {
   "cell_type": "code",
   "execution_count": 0,
   "metadata": {
    "application/vnd.databricks.v1+cell": {
     "cellMetadata": {
      "byteLimit": 2048000,
      "rowLimit": 10000
     },
     "collapsed": true,
     "inputWidgets": {},
     "nuid": "5a075d47-8d26-4d6d-88e5-9de697fe16a1",
     "showTitle": false,
     "tableResultSettingsMap": {},
     "title": ""
    }
   },
   "outputs": [
    {
     "output_type": "stream",
     "name": "stderr",
     "output_type": "stream",
     "text": [
      "2024/11/09 21:12:28 WARNING mlflow.models.model: Model logged without a signature. Signatures will be required for upcoming model registry features as they validate model inputs and denote the expected schema of model outputs. Please visit https://www.mlflow.org/docs/2.11.4/models.html#set-signature-on-logged-model for instructions on setting a model signature on your logged model.\n2024/11/09 21:12:35 WARNING mlflow.models.model: Model logged without a signature. Signatures will be required for upcoming model registry features as they validate model inputs and denote the expected schema of model outputs. Please visit https://www.mlflow.org/docs/2.11.4/models.html#set-signature-on-logged-model for instructions on setting a model signature on your logged model.\n2024/11/09 21:12:43 WARNING mlflow.models.model: Model logged without a signature. Signatures will be required for upcoming model registry features as they validate model inputs and denote the expected schema of model outputs. Please visit https://www.mlflow.org/docs/2.11.4/models.html#set-signature-on-logged-model for instructions on setting a model signature on your logged model.\n2024/11/09 21:12:50 WARNING mlflow.models.model: Model logged without a signature. Signatures will be required for upcoming model registry features as they validate model inputs and denote the expected schema of model outputs. Please visit https://www.mlflow.org/docs/2.11.4/models.html#set-signature-on-logged-model for instructions on setting a model signature on your logged model.\n2024/11/09 21:12:58 WARNING mlflow.models.model: Model logged without a signature. Signatures will be required for upcoming model registry features as they validate model inputs and denote the expected schema of model outputs. Please visit https://www.mlflow.org/docs/2.11.4/models.html#set-signature-on-logged-model for instructions on setting a model signature on your logged model.\n2024/11/09 21:13:09 WARNING mlflow.models.model: Model logged without a signature. Signatures will be required for upcoming model registry features as they validate model inputs and denote the expected schema of model outputs. Please visit https://www.mlflow.org/docs/2.11.4/models.html#set-signature-on-logged-model for instructions on setting a model signature on your logged model.\n2024/11/09 21:13:15 WARNING mlflow.models.model: Model logged without a signature. Signatures will be required for upcoming model registry features as they validate model inputs and denote the expected schema of model outputs. Please visit https://www.mlflow.org/docs/2.11.4/models.html#set-signature-on-logged-model for instructions on setting a model signature on your logged model.\n2024/11/09 21:13:23 WARNING mlflow.models.model: Model logged without a signature. Signatures will be required for upcoming model registry features as they validate model inputs and denote the expected schema of model outputs. Please visit https://www.mlflow.org/docs/2.11.4/models.html#set-signature-on-logged-model for instructions on setting a model signature on your logged model.\n2024/11/09 21:13:31 WARNING mlflow.models.model: Model logged without a signature. Signatures will be required for upcoming model registry features as they validate model inputs and denote the expected schema of model outputs. Please visit https://www.mlflow.org/docs/2.11.4/models.html#set-signature-on-logged-model for instructions on setting a model signature on your logged model.\n2024/11/09 21:13:38 WARNING mlflow.models.model: Model logged without a signature. Signatures will be required for upcoming model registry features as they validate model inputs and denote the expected schema of model outputs. Please visit https://www.mlflow.org/docs/2.11.4/models.html#set-signature-on-logged-model for instructions on setting a model signature on your logged model.\n2024/11/09 21:13:46 WARNING mlflow.models.model: Model logged without a signature. Signatures will be required for upcoming model registry features as they validate model inputs and denote the expected schema of model outputs. Please visit https://www.mlflow.org/docs/2.11.4/models.html#set-signature-on-logged-model for instructions on setting a model signature on your logged model.\n2024/11/09 21:13:55 WARNING mlflow.models.model: Model logged without a signature. Signatures will be required for upcoming model registry features as they validate model inputs and denote the expected schema of model outputs. Please visit https://www.mlflow.org/docs/2.11.4/models.html#set-signature-on-logged-model for instructions on setting a model signature on your logged model.\n2024/11/09 21:14:03 WARNING mlflow.models.model: Model logged without a signature. Signatures will be required for upcoming model registry features as they validate model inputs and denote the expected schema of model outputs. Please visit https://www.mlflow.org/docs/2.11.4/models.html#set-signature-on-logged-model for instructions on setting a model signature on your logged model.\n2024/11/09 21:14:11 WARNING mlflow.models.model: Model logged without a signature. Signatures will be required for upcoming model registry features as they validate model inputs and denote the expected schema of model outputs. Please visit https://www.mlflow.org/docs/2.11.4/models.html#set-signature-on-logged-model for instructions on setting a model signature on your logged model.\n2024/11/09 21:14:18 WARNING mlflow.models.model: Model logged without a signature. Signatures will be required for upcoming model registry features as they validate model inputs and denote the expected schema of model outputs. Please visit https://www.mlflow.org/docs/2.11.4/models.html#set-signature-on-logged-model for instructions on setting a model signature on your logged model.\n2024/11/09 21:14:26 WARNING mlflow.models.model: Model logged without a signature. Signatures will be required for upcoming model registry features as they validate model inputs and denote the expected schema of model outputs. Please visit https://www.mlflow.org/docs/2.11.4/models.html#set-signature-on-logged-model for instructions on setting a model signature on your logged model.\n2024/11/09 21:14:36 WARNING mlflow.models.model: Model logged without a signature. Signatures will be required for upcoming model registry features as they validate model inputs and denote the expected schema of model outputs. Please visit https://www.mlflow.org/docs/2.11.4/models.html#set-signature-on-logged-model for instructions on setting a model signature on your logged model.\n"
     ]
    }
   ],
   "source": [
    "#Experimentos usando SMOTE dataset\n",
    "experiment_run_gbc(exp='bank-churn-GBC2',dataframe='SMOTE',\n",
    "                   x_train = x_smote,y_train= y_smote,   \n",
    "                   learning_rate=0.005, max_iter=100, max_depth=5)\n",
    "                   \n",
    "experiment_run_gbc(exp='bank-churn-GBC2',dataframe='SMOTE',\n",
    "                   x_train = x_smote,y_train= y_smote,   \n",
    "                   learning_rate=0.005, max_iter=200, max_depth=5)\n",
    "\n",
    "experiment_run_gbc(exp='bank-churn-GBC2',dataframe='SMOTE',\n",
    "                   x_train = x_smote,y_train= y_smote,   \n",
    "                   learning_rate=0.005, max_iter=300, max_depth=5)       \n",
    "\n",
    "experiment_run_gbc(exp='bank-churn-GBC2',dataframe='SMOTE',\n",
    "                   x_train = x_smote,y_train= y_smote,   \n",
    "                   learning_rate=0.005, max_iter=100, max_depth=10)\n",
    "                   \n",
    "experiment_run_gbc(exp='bank-churn-GBC2',dataframe='SMOTE',\n",
    "                   x_train = x_smote,y_train= y_smote,   \n",
    "                   learning_rate=0.005, max_iter=200, max_depth=10)\n",
    "\n",
    "experiment_run_gbc(exp='bank-churn-GBC2',dataframe='SMOTE',\n",
    "                   x_train = x_smote,y_train= y_smote,   \n",
    "                   learning_rate=0.005, max_iter=300, max_depth=10)     \n",
    "\n",
    "experiment_run_gbc(exp='bank-churn-GBC2',dataframe='SMOTE',\n",
    "                   x_train = x_smote,y_train= y_smote,   \n",
    "                   learning_rate=0.005, max_iter=100, max_depth=5)\n",
    "                   \n",
    "experiment_run_gbc(exp='bank-churn-GBC2',dataframe='SMOTE',\n",
    "                   x_train = x_smote,y_train= y_smote,   \n",
    "                   learning_rate=0.01, max_iter=200, max_depth=5)\n",
    "\n",
    "experiment_run_gbc(exp='bank-churn-GBC2',dataframe='SMOTE',\n",
    "                   x_train = x_smote,y_train= y_smote,   \n",
    "                   learning_rate=0.01, max_iter=300, max_depth=5)       \n",
    "\n",
    "experiment_run_gbc(exp='bank-churn-GBC2',dataframe='SMOTE',\n",
    "                   x_train = x_smote,y_train= y_smote,   \n",
    "                   learning_rate=0.01, max_iter=100, max_depth=10)\n",
    "                   \n",
    "experiment_run_gbc(exp='bank-churn-GBC2',dataframe='SMOTE',\n",
    "                   x_train = x_smote,y_train= y_smote,   \n",
    "                   learning_rate=0.01, max_iter=200, max_depth=10)\n",
    "\n",
    "experiment_run_gbc(exp='bank-churn-GBC2',dataframe='SMOTE',\n",
    "                   x_train = x_smote,y_train= y_smote,   \n",
    "                   learning_rate=0.01, max_iter=300, max_depth=10)    \n",
    "\n",
    "experiment_run_gbc(exp='bank-churn-GBC2',dataframe='SMOTE',\n",
    "                   x_train = x_smote,y_train= y_smote,   \n",
    "                   learning_rate=0.02, max_iter=200, max_depth=5)\n",
    "\n",
    "experiment_run_gbc(exp='bank-churn-GBC2',dataframe='SMOTE',\n",
    "                   x_train = x_smote,y_train= y_smote,   \n",
    "                   learning_rate=0.02, max_iter=300, max_depth=5)       \n",
    "\n",
    "experiment_run_gbc(exp='bank-churn-GBC2',dataframe='SMOTE',\n",
    "                   x_train = x_smote,y_train= y_smote,   \n",
    "                   learning_rate=0.02, max_iter=100, max_depth=10)\n",
    "                   \n",
    "experiment_run_gbc(exp='bank-churn-GBC2',dataframe='SMOTE',\n",
    "                   x_train = x_smote,y_train= y_smote,   \n",
    "                   learning_rate=0.02, max_iter=200, max_depth=10)\n",
    "\n",
    "experiment_run_gbc(exp='bank-churn-GBC2',dataframe='SMOTE',\n",
    "                   x_train = x_smote,y_train= y_smote,   \n",
    "                   learning_rate=0.02, max_iter=300, max_depth=10)    "
   ]
  },
  {
   "cell_type": "code",
   "execution_count": 0,
   "metadata": {
    "application/vnd.databricks.v1+cell": {
     "cellMetadata": {
      "byteLimit": 2048000,
      "rowLimit": 10000
     },
     "collapsed": true,
     "inputWidgets": {},
     "nuid": "5834c3d1-6106-47c3-a918-4e5ef2a38183",
     "showTitle": false,
     "tableResultSettingsMap": {},
     "title": ""
    }
   },
   "outputs": [
    {
     "output_type": "stream",
     "name": "stderr",
     "output_type": "stream",
     "text": [
      "2024/11/09 21:14:42 WARNING mlflow.models.model: Model logged without a signature. Signatures will be required for upcoming model registry features as they validate model inputs and denote the expected schema of model outputs. Please visit https://www.mlflow.org/docs/2.11.4/models.html#set-signature-on-logged-model for instructions on setting a model signature on your logged model.\n2024/11/09 21:14:49 WARNING mlflow.models.model: Model logged without a signature. Signatures will be required for upcoming model registry features as they validate model inputs and denote the expected schema of model outputs. Please visit https://www.mlflow.org/docs/2.11.4/models.html#set-signature-on-logged-model for instructions on setting a model signature on your logged model.\n2024/11/09 21:14:57 WARNING mlflow.models.model: Model logged without a signature. Signatures will be required for upcoming model registry features as they validate model inputs and denote the expected schema of model outputs. Please visit https://www.mlflow.org/docs/2.11.4/models.html#set-signature-on-logged-model for instructions on setting a model signature on your logged model.\n2024/11/09 21:15:04 WARNING mlflow.models.model: Model logged without a signature. Signatures will be required for upcoming model registry features as they validate model inputs and denote the expected schema of model outputs. Please visit https://www.mlflow.org/docs/2.11.4/models.html#set-signature-on-logged-model for instructions on setting a model signature on your logged model.\n2024/11/09 21:15:12 WARNING mlflow.models.model: Model logged without a signature. Signatures will be required for upcoming model registry features as they validate model inputs and denote the expected schema of model outputs. Please visit https://www.mlflow.org/docs/2.11.4/models.html#set-signature-on-logged-model for instructions on setting a model signature on your logged model.\n2024/11/09 21:15:20 WARNING mlflow.models.model: Model logged without a signature. Signatures will be required for upcoming model registry features as they validate model inputs and denote the expected schema of model outputs. Please visit https://www.mlflow.org/docs/2.11.4/models.html#set-signature-on-logged-model for instructions on setting a model signature on your logged model.\n2024/11/09 21:15:26 WARNING mlflow.models.model: Model logged without a signature. Signatures will be required for upcoming model registry features as they validate model inputs and denote the expected schema of model outputs. Please visit https://www.mlflow.org/docs/2.11.4/models.html#set-signature-on-logged-model for instructions on setting a model signature on your logged model.\n2024/11/09 21:15:32 WARNING mlflow.models.model: Model logged without a signature. Signatures will be required for upcoming model registry features as they validate model inputs and denote the expected schema of model outputs. Please visit https://www.mlflow.org/docs/2.11.4/models.html#set-signature-on-logged-model for instructions on setting a model signature on your logged model.\n2024/11/09 21:15:40 WARNING mlflow.models.model: Model logged without a signature. Signatures will be required for upcoming model registry features as they validate model inputs and denote the expected schema of model outputs. Please visit https://www.mlflow.org/docs/2.11.4/models.html#set-signature-on-logged-model for instructions on setting a model signature on your logged model.\n2024/11/09 21:15:46 WARNING mlflow.models.model: Model logged without a signature. Signatures will be required for upcoming model registry features as they validate model inputs and denote the expected schema of model outputs. Please visit https://www.mlflow.org/docs/2.11.4/models.html#set-signature-on-logged-model for instructions on setting a model signature on your logged model.\n2024/11/09 21:15:53 WARNING mlflow.models.model: Model logged without a signature. Signatures will be required for upcoming model registry features as they validate model inputs and denote the expected schema of model outputs. Please visit https://www.mlflow.org/docs/2.11.4/models.html#set-signature-on-logged-model for instructions on setting a model signature on your logged model.\n2024/11/09 21:16:01 WARNING mlflow.models.model: Model logged without a signature. Signatures will be required for upcoming model registry features as they validate model inputs and denote the expected schema of model outputs. Please visit https://www.mlflow.org/docs/2.11.4/models.html#set-signature-on-logged-model for instructions on setting a model signature on your logged model.\n2024/11/09 21:16:08 WARNING mlflow.models.model: Model logged without a signature. Signatures will be required for upcoming model registry features as they validate model inputs and denote the expected schema of model outputs. Please visit https://www.mlflow.org/docs/2.11.4/models.html#set-signature-on-logged-model for instructions on setting a model signature on your logged model.\n2024/11/09 21:16:15 WARNING mlflow.models.model: Model logged without a signature. Signatures will be required for upcoming model registry features as they validate model inputs and denote the expected schema of model outputs. Please visit https://www.mlflow.org/docs/2.11.4/models.html#set-signature-on-logged-model for instructions on setting a model signature on your logged model.\n2024/11/09 21:16:22 WARNING mlflow.models.model: Model logged without a signature. Signatures will be required for upcoming model registry features as they validate model inputs and denote the expected schema of model outputs. Please visit https://www.mlflow.org/docs/2.11.4/models.html#set-signature-on-logged-model for instructions on setting a model signature on your logged model.\n2024/11/09 21:16:29 WARNING mlflow.models.model: Model logged without a signature. Signatures will be required for upcoming model registry features as they validate model inputs and denote the expected schema of model outputs. Please visit https://www.mlflow.org/docs/2.11.4/models.html#set-signature-on-logged-model for instructions on setting a model signature on your logged model.\n2024/11/09 21:16:37 WARNING mlflow.models.model: Model logged without a signature. Signatures will be required for upcoming model registry features as they validate model inputs and denote the expected schema of model outputs. Please visit https://www.mlflow.org/docs/2.11.4/models.html#set-signature-on-logged-model for instructions on setting a model signature on your logged model.\n"
     ]
    }
   ],
   "source": [
    "#Experimentos usando SMOTE over y under dataset\n",
    "experiment_run_gbc(exp='bank-churn-GBC2',dataframe='SMOTE-Over/Under',\n",
    "                   x_train = x_smote_us,y_train= y_smote_us,   \n",
    "                   learning_rate=0.005, max_iter=100, max_depth=5)\n",
    "                   \n",
    "experiment_run_gbc(exp='bank-churn-GBC2',dataframe='SMOTE-Over/Under',\n",
    "                   x_train = x_smote_us,y_train= y_smote_us,   \n",
    "                   learning_rate=0.005, max_iter=200, max_depth=5)\n",
    "\n",
    "experiment_run_gbc(exp='bank-churn-GBC2',dataframe='SMOTE-Over/Under',\n",
    "                   x_train = x_smote_us,y_train= y_smote_us,   \n",
    "                   learning_rate=0.005, max_iter=300, max_depth=5)       \n",
    "\n",
    "experiment_run_gbc(exp='bank-churn-GBC2',dataframe='SMOTE-Over/Under',\n",
    "                   x_train = x_smote_us,y_train= y_smote_us,   \n",
    "                   learning_rate=0.005, max_iter=100, max_depth=10)\n",
    "                   \n",
    "experiment_run_gbc(exp='bank-churn-GBC2',dataframe='SMOTE-Over/Under',\n",
    "                   x_train = x_smote_us,y_train= y_smote_us,   \n",
    "                   learning_rate=0.005, max_iter=200, max_depth=10)\n",
    "\n",
    "experiment_run_gbc(exp='bank-churn-GBC2',dataframe='SMOTE-Over/Under',\n",
    "                   x_train = x_smote_us,y_train= y_smote_us,   \n",
    "                   learning_rate=0.005, max_iter=300, max_depth=10)     \n",
    "\n",
    "experiment_run_gbc(exp='bank-churn-GBC2',dataframe='SMOTE-Over/Under',\n",
    "                   x_train = x_smote_us,y_train= y_smote_us,   \n",
    "                   learning_rate=0.005, max_iter=100, max_depth=5)\n",
    "                   \n",
    "experiment_run_gbc(exp='bank-churn-GBC2',dataframe='SMOTE-Over/Under',\n",
    "                   x_train = x_smote_us,y_train= y_smote_us,   \n",
    "                   learning_rate=0.01, max_iter=200, max_depth=5)\n",
    "\n",
    "experiment_run_gbc(exp='bank-churn-GBC2',dataframe='SMOTE-Over/Under',\n",
    "                   x_train = x_smote_us,y_train= y_smote_us,   \n",
    "                   learning_rate=0.01, max_iter=300, max_depth=5)       \n",
    "\n",
    "experiment_run_gbc(exp='bank-churn-GBC2',dataframe='SMOTE-Over/Under',\n",
    "                   x_train = x_smote_us,y_train= y_smote_us,   \n",
    "                   learning_rate=0.01, max_iter=100, max_depth=10)\n",
    "                   \n",
    "experiment_run_gbc(exp='bank-churn-GBC2',dataframe='SMOTE-Over/Under',\n",
    "                   x_train = x_smote_us,y_train= y_smote_us,   \n",
    "                   learning_rate=0.01, max_iter=200, max_depth=10)\n",
    "\n",
    "experiment_run_gbc(exp='bank-churn-GBC2',dataframe='SMOTE-Over/Under',\n",
    "                   x_train = x_smote_us,y_train= y_smote_us,   \n",
    "                   learning_rate=0.01, max_iter=300, max_depth=10)    \n",
    "\n",
    "experiment_run_gbc(exp='bank-churn-GBC2',dataframe='SMOTE-Over/Under',\n",
    "                   x_train = x_smote_us,y_train= y_smote_us,   \n",
    "                   learning_rate=0.02, max_iter=200, max_depth=5)\n",
    "\n",
    "experiment_run_gbc(exp='bank-churn-GBC2',dataframe='SMOTE-Over/Under',\n",
    "                   x_train = x_smote_us,y_train= y_smote_us,   \n",
    "                   learning_rate=0.02, max_iter=300, max_depth=5)       \n",
    "\n",
    "experiment_run_gbc(exp='bank-churn-GBC2',dataframe='SMOTE-Over/Under',\n",
    "                   x_train = x_smote_us,y_train= y_smote_us,   \n",
    "                   learning_rate=0.02, max_iter=100, max_depth=10)\n",
    "                   \n",
    "experiment_run_gbc(exp='bank-churn-GBC2',dataframe='SMOTE-Over/Under',\n",
    "                   x_train = x_smote_us,y_train= y_smote_us,   \n",
    "                   learning_rate=0.02, max_iter=200, max_depth=10)\n",
    "\n",
    "experiment_run_gbc(exp='bank-churn-GBC2',dataframe='SMOTE-Over/Under',\n",
    "                   x_train = x_smote_us,y_train= y_smote_us,   \n",
    "                   learning_rate=0.02, max_iter=300, max_depth=10)    "
   ]
  },
  {
   "cell_type": "markdown",
   "metadata": {
    "application/vnd.databricks.v1+cell": {
     "cellMetadata": {},
     "inputWidgets": {},
     "nuid": "d69a967f-a411-48c1-9ea7-fd55dfc86908",
     "showTitle": false,
     "tableResultSettingsMap": {},
     "title": ""
    }
   },
   "source": [
    "### Random Forest"
   ]
  },
  {
   "cell_type": "code",
   "execution_count": 0,
   "metadata": {
    "application/vnd.databricks.v1+cell": {
     "cellMetadata": {
      "byteLimit": 2048000,
      "rowLimit": 10000
     },
     "collapsed": true,
     "inputWidgets": {},
     "nuid": "27e8749e-90fb-4c8c-b137-34e27be7cb18",
     "showTitle": false,
     "tableResultSettingsMap": {},
     "title": ""
    }
   },
   "outputs": [],
   "source": [
    "def experiment_run_rfc(exp, x_train, y_train, dataframe, n_estimators, criterion, max_depth,x_test=x_test, y_test=y_test):\n",
    "  #Definiendo el experimento\n",
    "  experiment = mlflow.set_experiment(f'/Users/spulidov91@gmail.com/{exp}')\n",
    "\n",
    "  with mlflow.start_run(experiment_id=experiment.experiment_id):\n",
    "    #Definiendo parámetros\n",
    "    n_estimators = n_estimators\n",
    "    criterion  = criterion\n",
    "    max_depth = max_depth\n",
    "\n",
    "    #Entrenando el modelo\n",
    "    RF = RandomForestClassifier(n_estimators = n_estimators, criterion = criterion, max_depth = max_depth)\n",
    "    RF.fit(x_train, y_train)\n",
    "\n",
    "    #Generando predicciones\n",
    "    y_sm_pred = RF.predict(x_test)\n",
    "    y_sm_pred_p = RF.predict_proba(x_test)[:,0]\n",
    "\n",
    "    #Generando métricas\n",
    "    results = metrics(y_test,y_sm_pred,y_sm_pred_p)\n",
    "\n",
    "    #Registros en ML Flow\n",
    "    #Parámetros\n",
    "    mlflow.log_param(\"n_estimators\", n_estimators)\n",
    "    mlflow.log_param(\"criterion\", criterion)\n",
    "    mlflow.log_param(\"max_depth\", max_depth)\n",
    "    mlflow.log_param(\"Data_train\", dataframe)\n",
    "    #Modelo\n",
    "    mlflow.sklearn.log_model(RF, \"Random Forest Classifier\")\n",
    "    #Métricas\n",
    "    for metric in results.keys():\n",
    "      mlflow.log_metric(metric, round(results[metric],5))"
   ]
  },
  {
   "cell_type": "code",
   "execution_count": 0,
   "metadata": {
    "application/vnd.databricks.v1+cell": {
     "cellMetadata": {
      "byteLimit": 2048000,
      "rowLimit": 10000
     },
     "collapsed": true,
     "inputWidgets": {},
     "nuid": "b0004cb5-87dc-4564-bb26-c4bb82deec7b",
     "showTitle": false,
     "tableResultSettingsMap": {},
     "title": ""
    }
   },
   "outputs": [
    {
     "output_type": "stream",
     "name": "stderr",
     "output_type": "stream",
     "text": [
      "2024/11/09 21:16:39 INFO mlflow.tracking.fluent: Experiment with name '/Users/spulidov91@gmail.com/bank-churn-RF2' does not exist. Creating a new experiment.\n2024/11/09 21:16:44 WARNING mlflow.models.model: Model logged without a signature. Signatures will be required for upcoming model registry features as they validate model inputs and denote the expected schema of model outputs. Please visit https://www.mlflow.org/docs/2.11.4/models.html#set-signature-on-logged-model for instructions on setting a model signature on your logged model.\n2024/11/09 21:16:51 WARNING mlflow.models.model: Model logged without a signature. Signatures will be required for upcoming model registry features as they validate model inputs and denote the expected schema of model outputs. Please visit https://www.mlflow.org/docs/2.11.4/models.html#set-signature-on-logged-model for instructions on setting a model signature on your logged model.\n2024/11/09 21:17:00 WARNING mlflow.models.model: Model logged without a signature. Signatures will be required for upcoming model registry features as they validate model inputs and denote the expected schema of model outputs. Please visit https://www.mlflow.org/docs/2.11.4/models.html#set-signature-on-logged-model for instructions on setting a model signature on your logged model.\n2024/11/09 21:17:07 WARNING mlflow.models.model: Model logged without a signature. Signatures will be required for upcoming model registry features as they validate model inputs and denote the expected schema of model outputs. Please visit https://www.mlflow.org/docs/2.11.4/models.html#set-signature-on-logged-model for instructions on setting a model signature on your logged model.\n2024/11/09 21:17:16 WARNING mlflow.models.model: Model logged without a signature. Signatures will be required for upcoming model registry features as they validate model inputs and denote the expected schema of model outputs. Please visit https://www.mlflow.org/docs/2.11.4/models.html#set-signature-on-logged-model for instructions on setting a model signature on your logged model.\n2024/11/09 21:17:25 WARNING mlflow.models.model: Model logged without a signature. Signatures will be required for upcoming model registry features as they validate model inputs and denote the expected schema of model outputs. Please visit https://www.mlflow.org/docs/2.11.4/models.html#set-signature-on-logged-model for instructions on setting a model signature on your logged model.\n2024/11/09 21:17:33 WARNING mlflow.models.model: Model logged without a signature. Signatures will be required for upcoming model registry features as they validate model inputs and denote the expected schema of model outputs. Please visit https://www.mlflow.org/docs/2.11.4/models.html#set-signature-on-logged-model for instructions on setting a model signature on your logged model.\n2024/11/09 21:17:42 WARNING mlflow.models.model: Model logged without a signature. Signatures will be required for upcoming model registry features as they validate model inputs and denote the expected schema of model outputs. Please visit https://www.mlflow.org/docs/2.11.4/models.html#set-signature-on-logged-model for instructions on setting a model signature on your logged model.\n2024/11/09 21:17:53 WARNING mlflow.models.model: Model logged without a signature. Signatures will be required for upcoming model registry features as they validate model inputs and denote the expected schema of model outputs. Please visit https://www.mlflow.org/docs/2.11.4/models.html#set-signature-on-logged-model for instructions on setting a model signature on your logged model.\n2024/11/09 21:18:00 WARNING mlflow.models.model: Model logged without a signature. Signatures will be required for upcoming model registry features as they validate model inputs and denote the expected schema of model outputs. Please visit https://www.mlflow.org/docs/2.11.4/models.html#set-signature-on-logged-model for instructions on setting a model signature on your logged model.\n2024/11/09 21:18:08 WARNING mlflow.models.model: Model logged without a signature. Signatures will be required for upcoming model registry features as they validate model inputs and denote the expected schema of model outputs. Please visit https://www.mlflow.org/docs/2.11.4/models.html#set-signature-on-logged-model for instructions on setting a model signature on your logged model.\n2024/11/09 21:18:17 WARNING mlflow.models.model: Model logged without a signature. Signatures will be required for upcoming model registry features as they validate model inputs and denote the expected schema of model outputs. Please visit https://www.mlflow.org/docs/2.11.4/models.html#set-signature-on-logged-model for instructions on setting a model signature on your logged model.\n2024/11/09 21:18:24 WARNING mlflow.models.model: Model logged without a signature. Signatures will be required for upcoming model registry features as they validate model inputs and denote the expected schema of model outputs. Please visit https://www.mlflow.org/docs/2.11.4/models.html#set-signature-on-logged-model for instructions on setting a model signature on your logged model.\n2024/11/09 21:18:32 WARNING mlflow.models.model: Model logged without a signature. Signatures will be required for upcoming model registry features as they validate model inputs and denote the expected schema of model outputs. Please visit https://www.mlflow.org/docs/2.11.4/models.html#set-signature-on-logged-model for instructions on setting a model signature on your logged model.\n2024/11/09 21:18:43 WARNING mlflow.models.model: Model logged without a signature. Signatures will be required for upcoming model registry features as they validate model inputs and denote the expected schema of model outputs. Please visit https://www.mlflow.org/docs/2.11.4/models.html#set-signature-on-logged-model for instructions on setting a model signature on your logged model.\n2024/11/09 21:18:51 WARNING mlflow.models.model: Model logged without a signature. Signatures will be required for upcoming model registry features as they validate model inputs and denote the expected schema of model outputs. Please visit https://www.mlflow.org/docs/2.11.4/models.html#set-signature-on-logged-model for instructions on setting a model signature on your logged model.\n2024/11/09 21:19:00 WARNING mlflow.models.model: Model logged without a signature. Signatures will be required for upcoming model registry features as they validate model inputs and denote the expected schema of model outputs. Please visit https://www.mlflow.org/docs/2.11.4/models.html#set-signature-on-logged-model for instructions on setting a model signature on your logged model.\n2024/11/09 21:19:11 WARNING mlflow.models.model: Model logged without a signature. Signatures will be required for upcoming model registry features as they validate model inputs and denote the expected schema of model outputs. Please visit https://www.mlflow.org/docs/2.11.4/models.html#set-signature-on-logged-model for instructions on setting a model signature on your logged model.\n"
     ]
    }
   ],
   "source": [
    "#Experimentos con dataframe original\n",
    "experiment_run_rfc(exp='bank-churn-RF2',dataframe='Unbalanced',\n",
    "                   x_train = x_train,y_train= y_train,   \n",
    "                   n_estimators=100, criterion='gini', max_depth=5)\n",
    "experiment_run_rfc(exp='bank-churn-RF2',dataframe='Unbalanced',\n",
    "                   x_train = x_train,y_train= y_train,   \n",
    "                   n_estimators=200, criterion='gini', max_depth=5)\n",
    "experiment_run_rfc(exp='bank-churn-RF2',dataframe='Unbalanced',\n",
    "                   x_train = x_train,y_train= y_train,   \n",
    "                   n_estimators=300, criterion='gini', max_depth=5)\n",
    "experiment_run_rfc(exp='bank-churn-RF2',dataframe='Unbalanced',\n",
    "                   x_train = x_train,y_train= y_train,   \n",
    "                   n_estimators=100, criterion='gini', max_depth=10)\n",
    "experiment_run_rfc(exp='bank-churn-RF2',dataframe='Unbalanced',\n",
    "                   x_train = x_train,y_train= y_train,   \n",
    "                   n_estimators=200, criterion='gini', max_depth=10)\n",
    "experiment_run_rfc(exp='bank-churn-RF2',dataframe='Unbalanced',\n",
    "                   x_train = x_train,y_train= y_train,   \n",
    "                   n_estimators=300, criterion='gini', max_depth=10)\n",
    "experiment_run_rfc(exp='bank-churn-RF2',dataframe='Unbalanced',\n",
    "                   x_train = x_train,y_train= y_train,   \n",
    "                   n_estimators=100, criterion='gini', max_depth=15)\n",
    "experiment_run_rfc(exp='bank-churn-RF2',dataframe='Unbalanced',\n",
    "                   x_train = x_train,y_train= y_train,   \n",
    "                   n_estimators=200, criterion='gini', max_depth=15)\n",
    "experiment_run_rfc(exp='bank-churn-RF2',dataframe='Unbalanced',\n",
    "                   x_train = x_train,y_train= y_train,   \n",
    "                   n_estimators=300, criterion='gini', max_depth=15)            \n",
    "experiment_run_rfc(exp='bank-churn-RF2',dataframe='Unbalanced',\n",
    "                   x_train = x_train,y_train= y_train,   \n",
    "                   n_estimators=100, criterion='entropy', max_depth=5)\n",
    "experiment_run_rfc(exp='bank-churn-RF2',dataframe='Unbalanced',\n",
    "                   x_train = x_train,y_train= y_train,   \n",
    "                   n_estimators=200, criterion='entropy', max_depth=5)\n",
    "experiment_run_rfc(exp='bank-churn-RF2',dataframe='Unbalanced',\n",
    "                   x_train = x_train,y_train= y_train,   \n",
    "                   n_estimators=300, criterion='entropy', max_depth=5)\n",
    "experiment_run_rfc(exp='bank-churn-RF2',dataframe='Unbalanced',\n",
    "                   x_train = x_train,y_train= y_train,   \n",
    "                   n_estimators=100, criterion='entropy', max_depth=10)\n",
    "experiment_run_rfc(exp='bank-churn-RF2',dataframe='Unbalanced',\n",
    "                   x_train = x_train,y_train= y_train,   \n",
    "                   n_estimators=200, criterion='entropy', max_depth=10)\n",
    "experiment_run_rfc(exp='bank-churn-RF2',dataframe='Unbalanced',\n",
    "                   x_train = x_train,y_train= y_train,   \n",
    "                   n_estimators=300, criterion='entropy', max_depth=10)\n",
    "experiment_run_rfc(exp='bank-churn-RF2',dataframe='Unbalanced',\n",
    "                   x_train = x_train,y_train= y_train,   \n",
    "                   n_estimators=100, criterion='entropy', max_depth=15)\n",
    "experiment_run_rfc(exp='bank-churn-RF2',dataframe='Unbalanced',\n",
    "                   x_train = x_train,y_train= y_train,   \n",
    "                   n_estimators=200, criterion='entropy', max_depth=15)\n",
    "experiment_run_rfc(exp='bank-churn-RF2',dataframe='Unbalanced',\n",
    "                   x_train = x_train,y_train= y_train,   \n",
    "                   n_estimators=300, criterion='entropy', max_depth=15)            \n",
    "                 "
   ]
  },
  {
   "cell_type": "code",
   "execution_count": 0,
   "metadata": {
    "application/vnd.databricks.v1+cell": {
     "cellMetadata": {
      "byteLimit": 2048000,
      "rowLimit": 10000
     },
     "collapsed": true,
     "inputWidgets": {},
     "nuid": "135d7ac1-0cb0-48f8-823a-af0e08312b93",
     "showTitle": false,
     "tableResultSettingsMap": {},
     "title": ""
    }
   },
   "outputs": [
    {
     "output_type": "stream",
     "name": "stderr",
     "output_type": "stream",
     "text": [
      "2024/11/09 21:19:20 WARNING mlflow.models.model: Model logged without a signature. Signatures will be required for upcoming model registry features as they validate model inputs and denote the expected schema of model outputs. Please visit https://www.mlflow.org/docs/2.11.4/models.html#set-signature-on-logged-model for instructions on setting a model signature on your logged model.\n2024/11/09 21:19:28 WARNING mlflow.models.model: Model logged without a signature. Signatures will be required for upcoming model registry features as they validate model inputs and denote the expected schema of model outputs. Please visit https://www.mlflow.org/docs/2.11.4/models.html#set-signature-on-logged-model for instructions on setting a model signature on your logged model.\n2024/11/09 21:19:38 WARNING mlflow.models.model: Model logged without a signature. Signatures will be required for upcoming model registry features as they validate model inputs and denote the expected schema of model outputs. Please visit https://www.mlflow.org/docs/2.11.4/models.html#set-signature-on-logged-model for instructions on setting a model signature on your logged model.\n2024/11/09 21:19:46 WARNING mlflow.models.model: Model logged without a signature. Signatures will be required for upcoming model registry features as they validate model inputs and denote the expected schema of model outputs. Please visit https://www.mlflow.org/docs/2.11.4/models.html#set-signature-on-logged-model for instructions on setting a model signature on your logged model.\n2024/11/09 21:19:57 WARNING mlflow.models.model: Model logged without a signature. Signatures will be required for upcoming model registry features as they validate model inputs and denote the expected schema of model outputs. Please visit https://www.mlflow.org/docs/2.11.4/models.html#set-signature-on-logged-model for instructions on setting a model signature on your logged model.\n2024/11/09 21:20:11 WARNING mlflow.models.model: Model logged without a signature. Signatures will be required for upcoming model registry features as they validate model inputs and denote the expected schema of model outputs. Please visit https://www.mlflow.org/docs/2.11.4/models.html#set-signature-on-logged-model for instructions on setting a model signature on your logged model.\n2024/11/09 21:20:21 WARNING mlflow.models.model: Model logged without a signature. Signatures will be required for upcoming model registry features as they validate model inputs and denote the expected schema of model outputs. Please visit https://www.mlflow.org/docs/2.11.4/models.html#set-signature-on-logged-model for instructions on setting a model signature on your logged model.\n2024/11/09 21:20:33 WARNING mlflow.models.model: Model logged without a signature. Signatures will be required for upcoming model registry features as they validate model inputs and denote the expected schema of model outputs. Please visit https://www.mlflow.org/docs/2.11.4/models.html#set-signature-on-logged-model for instructions on setting a model signature on your logged model.\n2024/11/09 21:20:49 WARNING mlflow.models.model: Model logged without a signature. Signatures will be required for upcoming model registry features as they validate model inputs and denote the expected schema of model outputs. Please visit https://www.mlflow.org/docs/2.11.4/models.html#set-signature-on-logged-model for instructions on setting a model signature on your logged model.\n2024/11/09 21:20:57 WARNING mlflow.models.model: Model logged without a signature. Signatures will be required for upcoming model registry features as they validate model inputs and denote the expected schema of model outputs. Please visit https://www.mlflow.org/docs/2.11.4/models.html#set-signature-on-logged-model for instructions on setting a model signature on your logged model.\n2024/11/09 21:21:06 WARNING mlflow.models.model: Model logged without a signature. Signatures will be required for upcoming model registry features as they validate model inputs and denote the expected schema of model outputs. Please visit https://www.mlflow.org/docs/2.11.4/models.html#set-signature-on-logged-model for instructions on setting a model signature on your logged model.\n2024/11/09 21:21:18 WARNING mlflow.models.model: Model logged without a signature. Signatures will be required for upcoming model registry features as they validate model inputs and denote the expected schema of model outputs. Please visit https://www.mlflow.org/docs/2.11.4/models.html#set-signature-on-logged-model for instructions on setting a model signature on your logged model.\n2024/11/09 21:21:26 WARNING mlflow.models.model: Model logged without a signature. Signatures will be required for upcoming model registry features as they validate model inputs and denote the expected schema of model outputs. Please visit https://www.mlflow.org/docs/2.11.4/models.html#set-signature-on-logged-model for instructions on setting a model signature on your logged model.\n2024/11/09 21:21:38 WARNING mlflow.models.model: Model logged without a signature. Signatures will be required for upcoming model registry features as they validate model inputs and denote the expected schema of model outputs. Please visit https://www.mlflow.org/docs/2.11.4/models.html#set-signature-on-logged-model for instructions on setting a model signature on your logged model.\n2024/11/09 21:21:53 WARNING mlflow.models.model: Model logged without a signature. Signatures will be required for upcoming model registry features as they validate model inputs and denote the expected schema of model outputs. Please visit https://www.mlflow.org/docs/2.11.4/models.html#set-signature-on-logged-model for instructions on setting a model signature on your logged model.\n2024/11/09 21:22:02 WARNING mlflow.models.model: Model logged without a signature. Signatures will be required for upcoming model registry features as they validate model inputs and denote the expected schema of model outputs. Please visit https://www.mlflow.org/docs/2.11.4/models.html#set-signature-on-logged-model for instructions on setting a model signature on your logged model.\n2024/11/09 21:22:15 WARNING mlflow.models.model: Model logged without a signature. Signatures will be required for upcoming model registry features as they validate model inputs and denote the expected schema of model outputs. Please visit https://www.mlflow.org/docs/2.11.4/models.html#set-signature-on-logged-model for instructions on setting a model signature on your logged model.\n2024/11/09 21:22:32 WARNING mlflow.models.model: Model logged without a signature. Signatures will be required for upcoming model registry features as they validate model inputs and denote the expected schema of model outputs. Please visit https://www.mlflow.org/docs/2.11.4/models.html#set-signature-on-logged-model for instructions on setting a model signature on your logged model.\n"
     ]
    }
   ],
   "source": [
    "\n",
    "#Experimentos con dataframe SMOTE\n",
    "experiment_run_rfc(exp='bank-churn-RF2',dataframe='SMOTE',\n",
    "                   x_train = x_smote,y_train= y_smote,   \n",
    "                   n_estimators=100, criterion='gini', max_depth=5)\n",
    "experiment_run_rfc(exp='bank-churn-RF2',dataframe='SMOTE',\n",
    "                   x_train = x_smote,y_train= y_smote,   \n",
    "                   n_estimators=200, criterion='gini', max_depth=5)\n",
    "experiment_run_rfc(exp='bank-churn-RF2',dataframe='SMOTE',\n",
    "                   x_train = x_smote,y_train= y_smote,   \n",
    "                   n_estimators=300, criterion='gini', max_depth=5)\n",
    "experiment_run_rfc(exp='bank-churn-RF2',dataframe='SMOTE',\n",
    "                   x_train = x_smote,y_train= y_smote,   \n",
    "                   n_estimators=100, criterion='gini', max_depth=10)\n",
    "experiment_run_rfc(exp='bank-churn-RF2',dataframe='SMOTE',\n",
    "                   x_train = x_smote,y_train= y_smote,   \n",
    "                   n_estimators=200, criterion='gini', max_depth=10)\n",
    "experiment_run_rfc(exp='bank-churn-RF2',dataframe='SMOTE',\n",
    "                   x_train = x_smote,y_train= y_smote,   \n",
    "                   n_estimators=300, criterion='gini', max_depth=10)\n",
    "experiment_run_rfc(exp='bank-churn-RF2',dataframe='SMOTE',\n",
    "                   x_train = x_smote,y_train= y_smote,   \n",
    "                   n_estimators=100, criterion='gini', max_depth=15)\n",
    "experiment_run_rfc(exp='bank-churn-RF2',dataframe='SMOTE',\n",
    "                   x_train = x_smote,y_train= y_smote,   \n",
    "                   n_estimators=200, criterion='gini', max_depth=15)\n",
    "experiment_run_rfc(exp='bank-churn-RF2',dataframe='SMOTE',\n",
    "                   x_train = x_smote,y_train= y_smote,   \n",
    "                   n_estimators=300, criterion='gini', max_depth=15)            \n",
    "\n",
    "experiment_run_rfc(exp='bank-churn-RF2',dataframe='SMOTE',\n",
    "                   x_train = x_smote,y_train= y_smote,   \n",
    "                   n_estimators=100, criterion='entropy', max_depth=5)\n",
    "experiment_run_rfc(exp='bank-churn-RF2',dataframe='SMOTE',\n",
    "                   x_train = x_smote,y_train= y_smote,   \n",
    "                   n_estimators=200, criterion='entropy', max_depth=5)\n",
    "experiment_run_rfc(exp='bank-churn-RF2',dataframe='SMOTE',\n",
    "                   x_train = x_smote,y_train= y_smote,   \n",
    "                   n_estimators=300, criterion='entropy', max_depth=5)\n",
    "experiment_run_rfc(exp='bank-churn-RF2',dataframe='SMOTE',\n",
    "                   x_train = x_smote,y_train= y_smote,   \n",
    "                   n_estimators=100, criterion='entropy', max_depth=10)\n",
    "experiment_run_rfc(exp='bank-churn-RF2',dataframe='SMOTE',\n",
    "                   x_train = x_smote,y_train= y_smote,   \n",
    "                   n_estimators=200, criterion='entropy', max_depth=10)\n",
    "experiment_run_rfc(exp='bank-churn-RF2',dataframe='SMOTE',\n",
    "                   x_train = x_smote,y_train= y_smote,   \n",
    "                   n_estimators=300, criterion='entropy', max_depth=10)\n",
    "experiment_run_rfc(exp='bank-churn-RF2',dataframe='SMOTE',\n",
    "                   x_train = x_smote,y_train= y_smote,   \n",
    "                   n_estimators=100, criterion='entropy', max_depth=15)\n",
    "experiment_run_rfc(exp='bank-churn-RF2',dataframe='SMOTE',\n",
    "                   x_train = x_smote,y_train= y_smote,   \n",
    "                   n_estimators=200, criterion='entropy', max_depth=15)\n",
    "experiment_run_rfc(exp='bank-churn-RF2',dataframe='SMOTE',\n",
    "                   x_train = x_smote,y_train= y_smote,   \n",
    "                   n_estimators=300, criterion='entropy', max_depth=15)            \n",
    "                 "
   ]
  },
  {
   "cell_type": "code",
   "execution_count": 0,
   "metadata": {
    "application/vnd.databricks.v1+cell": {
     "cellMetadata": {
      "byteLimit": 2048000,
      "rowLimit": 10000
     },
     "collapsed": true,
     "inputWidgets": {},
     "nuid": "dc961487-bbfd-421c-ac3f-507495d9ec46",
     "showTitle": false,
     "tableResultSettingsMap": {},
     "title": ""
    }
   },
   "outputs": [
    {
     "output_type": "stream",
     "name": "stderr",
     "output_type": "stream",
     "text": [
      "2024/11/09 21:22:39 WARNING mlflow.models.model: Model logged without a signature. Signatures will be required for upcoming model registry features as they validate model inputs and denote the expected schema of model outputs. Please visit https://www.mlflow.org/docs/2.11.4/models.html#set-signature-on-logged-model for instructions on setting a model signature on your logged model.\n2024/11/09 21:22:46 WARNING mlflow.models.model: Model logged without a signature. Signatures will be required for upcoming model registry features as they validate model inputs and denote the expected schema of model outputs. Please visit https://www.mlflow.org/docs/2.11.4/models.html#set-signature-on-logged-model for instructions on setting a model signature on your logged model.\n2024/11/09 21:22:53 WARNING mlflow.models.model: Model logged without a signature. Signatures will be required for upcoming model registry features as they validate model inputs and denote the expected schema of model outputs. Please visit https://www.mlflow.org/docs/2.11.4/models.html#set-signature-on-logged-model for instructions on setting a model signature on your logged model.\n2024/11/09 21:23:00 WARNING mlflow.models.model: Model logged without a signature. Signatures will be required for upcoming model registry features as they validate model inputs and denote the expected schema of model outputs. Please visit https://www.mlflow.org/docs/2.11.4/models.html#set-signature-on-logged-model for instructions on setting a model signature on your logged model.\n2024/11/09 21:23:08 WARNING mlflow.models.model: Model logged without a signature. Signatures will be required for upcoming model registry features as they validate model inputs and denote the expected schema of model outputs. Please visit https://www.mlflow.org/docs/2.11.4/models.html#set-signature-on-logged-model for instructions on setting a model signature on your logged model.\n2024/11/09 21:23:17 WARNING mlflow.models.model: Model logged without a signature. Signatures will be required for upcoming model registry features as they validate model inputs and denote the expected schema of model outputs. Please visit https://www.mlflow.org/docs/2.11.4/models.html#set-signature-on-logged-model for instructions on setting a model signature on your logged model.\n2024/11/09 21:23:24 WARNING mlflow.models.model: Model logged without a signature. Signatures will be required for upcoming model registry features as they validate model inputs and denote the expected schema of model outputs. Please visit https://www.mlflow.org/docs/2.11.4/models.html#set-signature-on-logged-model for instructions on setting a model signature on your logged model.\n2024/11/09 21:23:32 WARNING mlflow.models.model: Model logged without a signature. Signatures will be required for upcoming model registry features as they validate model inputs and denote the expected schema of model outputs. Please visit https://www.mlflow.org/docs/2.11.4/models.html#set-signature-on-logged-model for instructions on setting a model signature on your logged model.\n2024/11/09 21:23:42 WARNING mlflow.models.model: Model logged without a signature. Signatures will be required for upcoming model registry features as they validate model inputs and denote the expected schema of model outputs. Please visit https://www.mlflow.org/docs/2.11.4/models.html#set-signature-on-logged-model for instructions on setting a model signature on your logged model.\n2024/11/09 21:23:49 WARNING mlflow.models.model: Model logged without a signature. Signatures will be required for upcoming model registry features as they validate model inputs and denote the expected schema of model outputs. Please visit https://www.mlflow.org/docs/2.11.4/models.html#set-signature-on-logged-model for instructions on setting a model signature on your logged model.\n2024/11/09 21:23:56 WARNING mlflow.models.model: Model logged without a signature. Signatures will be required for upcoming model registry features as they validate model inputs and denote the expected schema of model outputs. Please visit https://www.mlflow.org/docs/2.11.4/models.html#set-signature-on-logged-model for instructions on setting a model signature on your logged model.\n2024/11/09 21:24:04 WARNING mlflow.models.model: Model logged without a signature. Signatures will be required for upcoming model registry features as they validate model inputs and denote the expected schema of model outputs. Please visit https://www.mlflow.org/docs/2.11.4/models.html#set-signature-on-logged-model for instructions on setting a model signature on your logged model.\n2024/11/09 21:24:11 WARNING mlflow.models.model: Model logged without a signature. Signatures will be required for upcoming model registry features as they validate model inputs and denote the expected schema of model outputs. Please visit https://www.mlflow.org/docs/2.11.4/models.html#set-signature-on-logged-model for instructions on setting a model signature on your logged model.\n2024/11/09 21:24:19 WARNING mlflow.models.model: Model logged without a signature. Signatures will be required for upcoming model registry features as they validate model inputs and denote the expected schema of model outputs. Please visit https://www.mlflow.org/docs/2.11.4/models.html#set-signature-on-logged-model for instructions on setting a model signature on your logged model.\n2024/11/09 21:24:28 WARNING mlflow.models.model: Model logged without a signature. Signatures will be required for upcoming model registry features as they validate model inputs and denote the expected schema of model outputs. Please visit https://www.mlflow.org/docs/2.11.4/models.html#set-signature-on-logged-model for instructions on setting a model signature on your logged model.\n2024/11/09 21:24:36 WARNING mlflow.models.model: Model logged without a signature. Signatures will be required for upcoming model registry features as they validate model inputs and denote the expected schema of model outputs. Please visit https://www.mlflow.org/docs/2.11.4/models.html#set-signature-on-logged-model for instructions on setting a model signature on your logged model.\n2024/11/09 21:24:44 WARNING mlflow.models.model: Model logged without a signature. Signatures will be required for upcoming model registry features as they validate model inputs and denote the expected schema of model outputs. Please visit https://www.mlflow.org/docs/2.11.4/models.html#set-signature-on-logged-model for instructions on setting a model signature on your logged model.\n2024/11/09 21:24:54 WARNING mlflow.models.model: Model logged without a signature. Signatures will be required for upcoming model registry features as they validate model inputs and denote the expected schema of model outputs. Please visit https://www.mlflow.org/docs/2.11.4/models.html#set-signature-on-logged-model for instructions on setting a model signature on your logged model.\n"
     ]
    }
   ],
   "source": [
    "#Experimentos con dataframe SMOTE Under/Over\n",
    "experiment_run_rfc(exp='bank-churn-RF2',dataframe='SMOTE-Over/Under',\n",
    "                   x_train = x_smote_us,y_train= y_smote_us,   \n",
    "                   n_estimators=100, criterion='gini', max_depth=5)\n",
    "experiment_run_rfc(exp='bank-churn-RF2',dataframe='SMOTE-Over/Under',\n",
    "                   x_train = x_smote_us,y_train= y_smote_us,   \n",
    "                   n_estimators=200, criterion='gini', max_depth=5)\n",
    "experiment_run_rfc(exp='bank-churn-RF2',dataframe='SMOTE-Over/Under',\n",
    "                   x_train = x_smote_us,y_train= y_smote_us,   \n",
    "                   n_estimators=300, criterion='gini', max_depth=5)\n",
    "experiment_run_rfc(exp='bank-churn-RF2',dataframe='SMOTE-Over/Under',\n",
    "                   x_train = x_smote_us,y_train= y_smote_us,   \n",
    "                   n_estimators=100, criterion='gini', max_depth=10)\n",
    "experiment_run_rfc(exp='bank-churn-RF2',dataframe='SMOTE-Over/Under',\n",
    "                   x_train = x_smote_us,y_train= y_smote_us,   \n",
    "                   n_estimators=200, criterion='gini', max_depth=10)\n",
    "experiment_run_rfc(exp='bank-churn-RF2',dataframe='SMOTE-Over/Under',\n",
    "                   x_train = x_smote_us,y_train= y_smote_us,   \n",
    "                   n_estimators=300, criterion='gini', max_depth=10)\n",
    "experiment_run_rfc(exp='bank-churn-RF2',dataframe='SMOTE-Over/Under',\n",
    "                   x_train = x_smote_us,y_train= y_smote_us,   \n",
    "                   n_estimators=100, criterion='gini', max_depth=15)\n",
    "experiment_run_rfc(exp='bank-churn-RF2',dataframe='SMOTE-Over/Under',\n",
    "                   x_train = x_smote_us,y_train= y_smote_us,   \n",
    "                   n_estimators=200, criterion='gini', max_depth=15)\n",
    "experiment_run_rfc(exp='bank-churn-RF2',dataframe='SMOTE-Over/Under',\n",
    "                   x_train = x_smote_us,y_train= y_smote_us,   \n",
    "                   n_estimators=300, criterion='gini', max_depth=15)            \n",
    "\n",
    "experiment_run_rfc(exp='bank-churn-RF2',dataframe='SMOTE-Over/Under',\n",
    "                   x_train = x_smote_us,y_train= y_smote_us,   \n",
    "                   n_estimators=100, criterion='entropy', max_depth=5)\n",
    "experiment_run_rfc(exp='bank-churn-RF2',dataframe='SMOTE-Over/Under',\n",
    "                   x_train = x_smote_us,y_train= y_smote_us,   \n",
    "                   n_estimators=200, criterion='entropy', max_depth=5)\n",
    "experiment_run_rfc(exp='bank-churn-RF2',dataframe='SMOTE-Over/Under',\n",
    "                   x_train = x_smote_us,y_train= y_smote_us,   \n",
    "                   n_estimators=300, criterion='entropy', max_depth=5)\n",
    "experiment_run_rfc(exp='bank-churn-RF2',dataframe='SMOTE-Over/Under',\n",
    "                   x_train = x_smote_us,y_train= y_smote_us,   \n",
    "                   n_estimators=100, criterion='entropy', max_depth=10)\n",
    "experiment_run_rfc(exp='bank-churn-RF2',dataframe='SMOTE-Over/Under',\n",
    "                   x_train = x_smote_us,y_train= y_smote_us,   \n",
    "                   n_estimators=200, criterion='entropy', max_depth=10)\n",
    "experiment_run_rfc(exp='bank-churn-RF2',dataframe='SMOTE-Over/Under',\n",
    "                   x_train = x_smote_us,y_train= y_smote_us,   \n",
    "                   n_estimators=300, criterion='entropy', max_depth=10)\n",
    "experiment_run_rfc(exp='bank-churn-RF2',dataframe='SMOTE-Over/Under',\n",
    "                   x_train = x_smote_us,y_train= y_smote_us,   \n",
    "                   n_estimators=100, criterion='entropy', max_depth=15)\n",
    "experiment_run_rfc(exp='bank-churn-RF2',dataframe='SMOTE-Over/Under',\n",
    "                   x_train = x_smote_us,y_train= y_smote_us,   \n",
    "                   n_estimators=200, criterion='entropy', max_depth=15)\n",
    "experiment_run_rfc(exp='bank-churn-RF2',dataframe='SMOTE-Over/Under',\n",
    "                   x_train = x_smote_us,y_train= y_smote_us,   \n",
    "                   n_estimators=300, criterion='entropy', max_depth=15)            \n",
    "                 "
   ]
  }
 ],
 "metadata": {
  "application/vnd.databricks.v1+notebook": {
   "dashboards": [],
   "environmentMetadata": null,
   "language": "python",
   "notebookMetadata": {
    "pythonIndentUnit": 2
   },
   "notebookName": "Churn Project",
   "widgets": {}
  }
 },
 "nbformat": 4,
 "nbformat_minor": 0
}
